{
 "cells": [
  {
   "cell_type": "markdown",
   "metadata": {},
   "source": [
    "### Numpy Tasks"
   ]
  },
  {
   "cell_type": "markdown",
   "metadata": {},
   "source": [
    "#### 1. Write a NumPy program to multiply two given arrays of same size element-by-element."
   ]
  },
  {
   "cell_type": "code",
   "execution_count": 2,
   "metadata": {},
   "outputs": [
    {
     "data": {
      "text/plain": [
       "array([ 7, 16, 27, 40, 55, 72])"
      ]
     },
     "execution_count": 2,
     "metadata": {},
     "output_type": "execute_result"
    }
   ],
   "source": [
    "import numpy as np\n",
    "\n",
    "arr1 = np.array([1,2,3,4,5,6])\n",
    "arr2 = np.array([7,8,9,10,11,12])\n",
    "\n",
    "arr3 = np.multiply(arr1,arr2)\n",
    "\n",
    "arr3"
   ]
  },
  {
   "cell_type": "markdown",
   "metadata": {},
   "source": [
    "#### 2. Write a NumPy program to find the missing data in a given array."
   ]
  },
  {
   "cell_type": "code",
   "execution_count": 69,
   "metadata": {},
   "outputs": [
    {
     "data": {
      "text/plain": [
       "(array([4, 5], dtype=int64),)"
      ]
     },
     "execution_count": 69,
     "metadata": {},
     "output_type": "execute_result"
    }
   ],
   "source": [
    "arr1 = np.array([32,98,76,86,np.nan,np.nan])\n",
    "\n",
    "np.where(np.isnan(arr1))"
   ]
  },
  {
   "cell_type": "markdown",
   "metadata": {},
   "source": [
    "#### 3. Write a NumPy program to test whether each element of a 1-D array is also present in a second array."
   ]
  },
  {
   "cell_type": "code",
   "execution_count": 3,
   "metadata": {},
   "outputs": [
    {
     "data": {
      "text/plain": [
       "False"
      ]
     },
     "execution_count": 3,
     "metadata": {},
     "output_type": "execute_result"
    }
   ],
   "source": [
    "arr1 = np.array([7,2,5,2,5,6])\n",
    "arr2 = np.array([7,2,5,1,5,6])\n",
    "\n",
    "np.array_equal(arr1,arr2)"
   ]
  },
  {
   "cell_type": "markdown",
   "metadata": {},
   "source": [
    "#### 4. Write a NumPy program to save a NumPy array to a text file."
   ]
  },
  {
   "cell_type": "code",
   "execution_count": 4,
   "metadata": {},
   "outputs": [],
   "source": [
    "with open(\"file1.txt\",\"w\") as file1:\n",
    "    arr1 = np.array([\"1\",\"2\",\"3\",\"4\",\"5\"])\n",
    "    for i in arr1:\n",
    "        file1.write(i)\n",
    "        file1.write(\" \")"
   ]
  },
  {
   "cell_type": "markdown",
   "metadata": {},
   "source": [
    "#### 5. Write a NumPy program to Create a 1-D array of 30 evenly spaced elements between 2.5. and 6.5, inclusive."
   ]
  },
  {
   "cell_type": "code",
   "execution_count": 5,
   "metadata": {},
   "outputs": [
    {
     "data": {
      "text/plain": [
       "array([2.91646235, 6.46504104, 6.39552682, 3.89875465, 4.18781485,\n",
       "       3.92746188, 6.24335237, 3.66387686, 5.15046112, 4.83150332,\n",
       "       4.39808002, 3.68393034, 3.28747365, 3.36528021, 2.9772248 ,\n",
       "       4.6319232 , 3.78747304, 5.1391133 , 6.36519868, 5.19931899,\n",
       "       3.43707416, 4.43025303, 6.11419561, 2.68918548, 3.642215  ,\n",
       "       6.05528113, 3.59828334, 4.62198548, 5.43011241, 3.56710822])"
      ]
     },
     "execution_count": 5,
     "metadata": {},
     "output_type": "execute_result"
    }
   ],
   "source": [
    "rand_arr = np.random.uniform(2.5,6.5,[30,])\n",
    "rand_arr"
   ]
  },
  {
   "cell_type": "markdown",
   "metadata": {},
   "source": [
    "### Pandas Tasks"
   ]
  },
  {
   "cell_type": "code",
   "execution_count": 6,
   "metadata": {},
   "outputs": [],
   "source": [
    "import pandas as ps"
   ]
  },
  {
   "cell_type": "markdown",
   "metadata": {},
   "source": [
    "#### 1. Write a Pandas program to convert Series of lists to one Series."
   ]
  },
  {
   "cell_type": "code",
   "execution_count": 14,
   "metadata": {},
   "outputs": [
    {
     "data": {
      "text/plain": [
       "43     34\n",
       "54     56\n",
       "65     32\n",
       "45     45\n",
       "23    245\n",
       "dtype: int64"
      ]
     },
     "execution_count": 14,
     "metadata": {},
     "output_type": "execute_result"
    }
   ],
   "source": [
    "df = ps.Series([34,56,32,45,245],[43,54,65,45,23])\n",
    "df"
   ]
  },
  {
   "cell_type": "markdown",
   "metadata": {},
   "source": [
    "#### 2. Write a Pandas program to create a subset of a given series based on value and condition."
   ]
  },
  {
   "cell_type": "code",
   "execution_count": 17,
   "metadata": {},
   "outputs": [
    {
     "data": {
      "text/plain": [
       "3    32\n",
       "5    44\n",
       "6    34\n",
       "dtype: int64"
      ]
     },
     "execution_count": 17,
     "metadata": {},
     "output_type": "execute_result"
    }
   ],
   "source": [
    "df1 = ps.Series([23,45,65,32,43,44,34,43])\n",
    "\n",
    "df1[df1%2==0]"
   ]
  },
  {
   "cell_type": "markdown",
   "metadata": {},
   "source": [
    "#### 3. Write a Pandas program to display most frequent value in a given series and replace everything else as Other in the series."
   ]
  },
  {
   "cell_type": "code",
   "execution_count": 26,
   "metadata": {},
   "outputs": [
    {
     "name": "stderr",
     "output_type": "stream",
     "text": [
      "C:\\Users\\ragha\\AppData\\Local\\Temp\\ipykernel_20904\\3991824762.py:3: FutureWarning: Setting an item of incompatible dtype is deprecated and will raise in a future error of pandas. Value 'other' has dtype incompatible with int64, please explicitly cast to a compatible dtype first.\n",
      "  df1[df1!=a]='other'\n"
     ]
    },
    {
     "data": {
      "text/plain": [
       "0       78\n",
       "1    other\n",
       "2    other\n",
       "3    other\n",
       "4    other\n",
       "5       78\n",
       "6    other\n",
       "7       78\n",
       "dtype: object"
      ]
     },
     "execution_count": 26,
     "metadata": {},
     "output_type": "execute_result"
    }
   ],
   "source": [
    "df1 = ps.Series([78,98,56,76,32,78,98,78])\n",
    "a=df1.mode()[0]\n",
    "df1[df1!=a]='other'\n",
    "df1"
   ]
  },
  {
   "cell_type": "markdown",
   "metadata": {},
   "source": [
    "#### 4 Write a Pandas program to find the positions of numbers that are multiples of 5 of agiven series."
   ]
  },
  {
   "cell_type": "code",
   "execution_count": 34,
   "metadata": {},
   "outputs": [
    {
     "data": {
      "text/plain": [
       "Index([0, 1, 3], dtype='int64')"
      ]
     },
     "execution_count": 34,
     "metadata": {},
     "output_type": "execute_result"
    }
   ],
   "source": [
    "df1 = ps.Series([5,10,64,60,34,54])\n",
    "\n",
    "df1[df1%5==0].index"
   ]
  },
  {
   "cell_type": "markdown",
   "metadata": {},
   "source": [
    "#### 5. Write a Pandas program to calculate the number of characters in each word in a given series."
   ]
  },
  {
   "cell_type": "code",
   "execution_count": 37,
   "metadata": {},
   "outputs": [
    {
     "name": "stdout",
     "output_type": "stream",
     "text": [
      "Hi 2\n",
      "Hello 5\n",
      "How 3\n",
      "World 5\n",
      "Python 6\n"
     ]
    }
   ],
   "source": [
    "df2 = ps.Series(['Hi','Hello','How',\"World\",'Python'])\n",
    "\n",
    "for i in df2:\n",
    "    print(i,len(i))"
   ]
  },
  {
   "cell_type": "markdown",
   "metadata": {},
   "source": [
    "#### 6. Write a Pandas program to convert year-month string to dates adding a specified day of the month."
   ]
  },
  {
   "cell_type": "code",
   "execution_count": 62,
   "metadata": {},
   "outputs": [
    {
     "name": "stdout",
     "output_type": "stream",
     "text": [
      "Original Series:\n",
      "0    Jan 2015\n",
      "1    Feb 2016\n",
      "2    Mar 2017\n",
      "3    Apr 2018\n",
      "4    May 2019\n",
      "dtype: object\n",
      "\n",
      "New dates:\n",
      "0   2015-01-11\n",
      "1   2016-02-11\n",
      "2   2017-03-11\n",
      "3   2018-04-11\n",
      "4   2019-05-11\n",
      "dtype: datetime64[ns]\n"
     ]
    }
   ],
   "source": [
    "from dateutil.parser import parse\n",
    "date_series = ps.Series(['Jan 2015', 'Feb 2016', 'Mar 2017', 'Apr 2018', 'May 2019'])\n",
    "print(\"Original Series:\")\n",
    "print(date_series)\n",
    "print(\"\\nNew dates:\")\n",
    "result = date_series.map(lambda d: parse('11 ' + d))\n",
    "print(result)"
   ]
  },
  {
   "cell_type": "markdown",
   "metadata": {},
   "source": [
    "#### 7. Write a Pandas program to create and display a DataFrame from a specified dictionary data which has the index labels."
   ]
  },
  {
   "cell_type": "code",
   "execution_count": 41,
   "metadata": {},
   "outputs": [
    {
     "data": {
      "text/html": [
       "<div>\n",
       "<style scoped>\n",
       "    .dataframe tbody tr th:only-of-type {\n",
       "        vertical-align: middle;\n",
       "    }\n",
       "\n",
       "    .dataframe tbody tr th {\n",
       "        vertical-align: top;\n",
       "    }\n",
       "\n",
       "    .dataframe thead th {\n",
       "        text-align: right;\n",
       "    }\n",
       "</style>\n",
       "<table border=\"1\" class=\"dataframe\">\n",
       "  <thead>\n",
       "    <tr style=\"text-align: right;\">\n",
       "      <th></th>\n",
       "      <th>Students</th>\n",
       "      <th>Age</th>\n",
       "      <th>Marks</th>\n",
       "      <th>Out of</th>\n",
       "    </tr>\n",
       "  </thead>\n",
       "  <tbody>\n",
       "    <tr>\n",
       "      <th>Student1</th>\n",
       "      <td>Jim</td>\n",
       "      <td>19</td>\n",
       "      <td>230</td>\n",
       "      <td>300</td>\n",
       "    </tr>\n",
       "    <tr>\n",
       "      <th>Student2</th>\n",
       "      <td>Dwight</td>\n",
       "      <td>19</td>\n",
       "      <td>235</td>\n",
       "      <td>300</td>\n",
       "    </tr>\n",
       "    <tr>\n",
       "      <th>Student3</th>\n",
       "      <td>Pam</td>\n",
       "      <td>19</td>\n",
       "      <td>260</td>\n",
       "      <td>300</td>\n",
       "    </tr>\n",
       "    <tr>\n",
       "      <th>Student4</th>\n",
       "      <td>John</td>\n",
       "      <td>20</td>\n",
       "      <td>270</td>\n",
       "      <td>300</td>\n",
       "    </tr>\n",
       "    <tr>\n",
       "      <th>Student5</th>\n",
       "      <td>Tony</td>\n",
       "      <td>19</td>\n",
       "      <td>220</td>\n",
       "      <td>300</td>\n",
       "    </tr>\n",
       "  </tbody>\n",
       "</table>\n",
       "</div>"
      ],
      "text/plain": [
       "         Students  Age  Marks  Out of\n",
       "Student1      Jim   19    230     300\n",
       "Student2   Dwight   19    235     300\n",
       "Student3      Pam   19    260     300\n",
       "Student4     John   20    270     300\n",
       "Student5     Tony   19    220     300"
      ]
     },
     "execution_count": 41,
     "metadata": {},
     "output_type": "execute_result"
    }
   ],
   "source": [
    "dict1 = {\n",
    "    'Students':['Jim',\"Dwight\",\"Pam\",\"John\",\"Tony\"],\n",
    "    'Age':[19,19,19,20,19],\n",
    "    'Marks':[230,235,260,270,220],\n",
    "    'Out of':[300,300,300,300,300]\n",
    "}\n",
    "\n",
    "ds = ps.DataFrame(dict1,index=['Student1','Student2','Student3','Student4','Student5'])\n",
    "ds"
   ]
  },
  {
   "cell_type": "markdown",
   "metadata": {},
   "source": [
    "#### 8. Write a Pandas program to select the rows where the number of attempts in the examination is greater than 2."
   ]
  },
  {
   "cell_type": "code",
   "execution_count": 45,
   "metadata": {},
   "outputs": [
    {
     "data": {
      "text/html": [
       "<div>\n",
       "<style scoped>\n",
       "    .dataframe tbody tr th:only-of-type {\n",
       "        vertical-align: middle;\n",
       "    }\n",
       "\n",
       "    .dataframe tbody tr th {\n",
       "        vertical-align: top;\n",
       "    }\n",
       "\n",
       "    .dataframe thead th {\n",
       "        text-align: right;\n",
       "    }\n",
       "</style>\n",
       "<table border=\"1\" class=\"dataframe\">\n",
       "  <thead>\n",
       "    <tr style=\"text-align: right;\">\n",
       "      <th></th>\n",
       "      <th>Students</th>\n",
       "      <th>Age</th>\n",
       "      <th>Marks</th>\n",
       "      <th>Out of</th>\n",
       "      <th>No of Attempts</th>\n",
       "    </tr>\n",
       "  </thead>\n",
       "  <tbody>\n",
       "    <tr>\n",
       "      <th>3</th>\n",
       "      <td>John</td>\n",
       "      <td>20</td>\n",
       "      <td>270</td>\n",
       "      <td>300</td>\n",
       "      <td>3</td>\n",
       "    </tr>\n",
       "    <tr>\n",
       "      <th>4</th>\n",
       "      <td>Tony</td>\n",
       "      <td>19</td>\n",
       "      <td>220</td>\n",
       "      <td>300</td>\n",
       "      <td>3</td>\n",
       "    </tr>\n",
       "  </tbody>\n",
       "</table>\n",
       "</div>"
      ],
      "text/plain": [
       "  Students  Age  Marks  Out of  No of Attempts\n",
       "3     John   20    270     300               3\n",
       "4     Tony   19    220     300               3"
      ]
     },
     "execution_count": 45,
     "metadata": {},
     "output_type": "execute_result"
    }
   ],
   "source": [
    "dict1 = {\n",
    "    'Students':['Jim',\"Dwight\",\"Pam\",\"John\",\"Tony\"],\n",
    "    'Age':[19,19,19,20,19],\n",
    "    'Marks':[230,235,260,270,220],\n",
    "    'Out of':[300,300,300,300,300],\n",
    "    'No of Attempts':[1,2,1,3,3]\n",
    "}\n",
    "ds1 = ps.DataFrame(dict1)\n",
    "\n",
    "ds1[ds1['No of Attempts']>2]"
   ]
  },
  {
   "cell_type": "markdown",
   "metadata": {},
   "source": [
    "#### 9. Write a Pandas program to append a new row k to data frame with given values for each column. Now delete the new row and return the original DataFrame."
   ]
  },
  {
   "cell_type": "code",
   "execution_count": 65,
   "metadata": {},
   "outputs": [
    {
     "name": "stdout",
     "output_type": "stream",
     "text": [
      "  Students  Age  Marks  Out of   k\n",
      "0      Jim   19    230     300  54\n",
      "1   Dwight   19    235     300  43\n",
      "2      Pam   19    120     300  54\n",
      "3     John   20    270     300  64\n",
      "4     Tony   19    100     300  32\n"
     ]
    },
    {
     "data": {
      "text/html": [
       "<div>\n",
       "<style scoped>\n",
       "    .dataframe tbody tr th:only-of-type {\n",
       "        vertical-align: middle;\n",
       "    }\n",
       "\n",
       "    .dataframe tbody tr th {\n",
       "        vertical-align: top;\n",
       "    }\n",
       "\n",
       "    .dataframe thead th {\n",
       "        text-align: right;\n",
       "    }\n",
       "</style>\n",
       "<table border=\"1\" class=\"dataframe\">\n",
       "  <thead>\n",
       "    <tr style=\"text-align: right;\">\n",
       "      <th></th>\n",
       "      <th>Students</th>\n",
       "      <th>Age</th>\n",
       "      <th>Marks</th>\n",
       "      <th>Out of</th>\n",
       "      <th>k</th>\n",
       "    </tr>\n",
       "  </thead>\n",
       "  <tbody>\n",
       "    <tr>\n",
       "      <th>0</th>\n",
       "      <td>Jim</td>\n",
       "      <td>19</td>\n",
       "      <td>230</td>\n",
       "      <td>300</td>\n",
       "      <td>54</td>\n",
       "    </tr>\n",
       "    <tr>\n",
       "      <th>1</th>\n",
       "      <td>Dwight</td>\n",
       "      <td>19</td>\n",
       "      <td>235</td>\n",
       "      <td>300</td>\n",
       "      <td>43</td>\n",
       "    </tr>\n",
       "    <tr>\n",
       "      <th>2</th>\n",
       "      <td>Pam</td>\n",
       "      <td>19</td>\n",
       "      <td>120</td>\n",
       "      <td>300</td>\n",
       "      <td>54</td>\n",
       "    </tr>\n",
       "    <tr>\n",
       "      <th>3</th>\n",
       "      <td>John</td>\n",
       "      <td>20</td>\n",
       "      <td>270</td>\n",
       "      <td>300</td>\n",
       "      <td>64</td>\n",
       "    </tr>\n",
       "    <tr>\n",
       "      <th>4</th>\n",
       "      <td>Tony</td>\n",
       "      <td>19</td>\n",
       "      <td>100</td>\n",
       "      <td>300</td>\n",
       "      <td>32</td>\n",
       "    </tr>\n",
       "  </tbody>\n",
       "</table>\n",
       "</div>"
      ],
      "text/plain": [
       "  Students  Age  Marks  Out of   k\n",
       "0      Jim   19    230     300  54\n",
       "1   Dwight   19    235     300  43\n",
       "2      Pam   19    120     300  54\n",
       "3     John   20    270     300  64\n",
       "4     Tony   19    100     300  32"
      ]
     },
     "execution_count": 65,
     "metadata": {},
     "output_type": "execute_result"
    }
   ],
   "source": [
    "dict1 = {\n",
    "    'Students':['Jim',\"Dwight\",\"Pam\",\"John\",\"Tony\"],\n",
    "    'Age':[19,19,19,20,19],\n",
    "    'Marks':[230,235,120,270,100],\n",
    "    'Out of':[300,300,300,300,300]\n",
    "}\n",
    "df4 = ps.DataFrame(dict1)\n",
    "\n",
    "df4['k'] = [54,43,54,64,32]\n",
    "\n",
    "print(df4)\n",
    "\n",
    "df4.drop(['k'],axis=1)\n",
    "df4"
   ]
  },
  {
   "cell_type": "markdown",
   "metadata": {},
   "source": [
    "#### 10. Write a Pandas program to sort the DataFrame first by name in descending order,then by score in ascending order."
   ]
  },
  {
   "cell_type": "code",
   "execution_count": 55,
   "metadata": {},
   "outputs": [
    {
     "data": {
      "text/html": [
       "<div>\n",
       "<style scoped>\n",
       "    .dataframe tbody tr th:only-of-type {\n",
       "        vertical-align: middle;\n",
       "    }\n",
       "\n",
       "    .dataframe tbody tr th {\n",
       "        vertical-align: top;\n",
       "    }\n",
       "\n",
       "    .dataframe thead th {\n",
       "        text-align: right;\n",
       "    }\n",
       "</style>\n",
       "<table border=\"1\" class=\"dataframe\">\n",
       "  <thead>\n",
       "    <tr style=\"text-align: right;\">\n",
       "      <th></th>\n",
       "      <th>Names</th>\n",
       "      <th>Age</th>\n",
       "      <th>Score</th>\n",
       "      <th>Out of</th>\n",
       "    </tr>\n",
       "  </thead>\n",
       "  <tbody>\n",
       "    <tr>\n",
       "      <th>4</th>\n",
       "      <td>Tony</td>\n",
       "      <td>19</td>\n",
       "      <td>100</td>\n",
       "      <td>300</td>\n",
       "    </tr>\n",
       "    <tr>\n",
       "      <th>2</th>\n",
       "      <td>Pam</td>\n",
       "      <td>19</td>\n",
       "      <td>120</td>\n",
       "      <td>300</td>\n",
       "    </tr>\n",
       "    <tr>\n",
       "      <th>3</th>\n",
       "      <td>John</td>\n",
       "      <td>20</td>\n",
       "      <td>270</td>\n",
       "      <td>300</td>\n",
       "    </tr>\n",
       "    <tr>\n",
       "      <th>0</th>\n",
       "      <td>Jim</td>\n",
       "      <td>19</td>\n",
       "      <td>230</td>\n",
       "      <td>300</td>\n",
       "    </tr>\n",
       "    <tr>\n",
       "      <th>1</th>\n",
       "      <td>Dwight</td>\n",
       "      <td>19</td>\n",
       "      <td>235</td>\n",
       "      <td>300</td>\n",
       "    </tr>\n",
       "  </tbody>\n",
       "</table>\n",
       "</div>"
      ],
      "text/plain": [
       "    Names  Age  Score  Out of\n",
       "4    Tony   19    100     300\n",
       "2     Pam   19    120     300\n",
       "3    John   20    270     300\n",
       "0     Jim   19    230     300\n",
       "1  Dwight   19    235     300"
      ]
     },
     "execution_count": 55,
     "metadata": {},
     "output_type": "execute_result"
    }
   ],
   "source": [
    "dict1 = {\n",
    "    'Names':['Jim',\"Dwight\",\"Pam\",\"John\",\"Tony\"],\n",
    "    'Age':[19,19,19,20,19],\n",
    "    'Score':[230,235,120,270,100],\n",
    "    'Out of':[300,300,300,300,300],\n",
    "}\n",
    "\n",
    "df3 = ps.DataFrame(dict1)\n",
    "\n",
    "df3 = df3.sort_values(['Names','Score'],ascending=[False,True])\n",
    "\n",
    "df3"
   ]
  },
  {
   "cell_type": "markdown",
   "metadata": {},
   "source": [
    "#### 11. Write a Pandas program to replace the &#39;qualify&#39; column contains the values &#39;yes&#39; and no with True and False."
   ]
  },
  {
   "cell_type": "code",
   "execution_count": 52,
   "metadata": {},
   "outputs": [
    {
     "data": {
      "text/html": [
       "<div>\n",
       "<style scoped>\n",
       "    .dataframe tbody tr th:only-of-type {\n",
       "        vertical-align: middle;\n",
       "    }\n",
       "\n",
       "    .dataframe tbody tr th {\n",
       "        vertical-align: top;\n",
       "    }\n",
       "\n",
       "    .dataframe thead th {\n",
       "        text-align: right;\n",
       "    }\n",
       "</style>\n",
       "<table border=\"1\" class=\"dataframe\">\n",
       "  <thead>\n",
       "    <tr style=\"text-align: right;\">\n",
       "      <th></th>\n",
       "      <th>Students</th>\n",
       "      <th>Age</th>\n",
       "      <th>Marks</th>\n",
       "      <th>Out of</th>\n",
       "      <th>Qualify</th>\n",
       "    </tr>\n",
       "  </thead>\n",
       "  <tbody>\n",
       "    <tr>\n",
       "      <th>0</th>\n",
       "      <td>Jim</td>\n",
       "      <td>19</td>\n",
       "      <td>230</td>\n",
       "      <td>300</td>\n",
       "      <td>True</td>\n",
       "    </tr>\n",
       "    <tr>\n",
       "      <th>1</th>\n",
       "      <td>Dwight</td>\n",
       "      <td>19</td>\n",
       "      <td>235</td>\n",
       "      <td>300</td>\n",
       "      <td>True</td>\n",
       "    </tr>\n",
       "    <tr>\n",
       "      <th>2</th>\n",
       "      <td>Pam</td>\n",
       "      <td>19</td>\n",
       "      <td>120</td>\n",
       "      <td>300</td>\n",
       "      <td>False</td>\n",
       "    </tr>\n",
       "    <tr>\n",
       "      <th>3</th>\n",
       "      <td>John</td>\n",
       "      <td>20</td>\n",
       "      <td>270</td>\n",
       "      <td>300</td>\n",
       "      <td>True</td>\n",
       "    </tr>\n",
       "    <tr>\n",
       "      <th>4</th>\n",
       "      <td>Tony</td>\n",
       "      <td>19</td>\n",
       "      <td>100</td>\n",
       "      <td>300</td>\n",
       "      <td>False</td>\n",
       "    </tr>\n",
       "  </tbody>\n",
       "</table>\n",
       "</div>"
      ],
      "text/plain": [
       "  Students  Age  Marks  Out of  Qualify\n",
       "0      Jim   19    230     300     True\n",
       "1   Dwight   19    235     300     True\n",
       "2      Pam   19    120     300    False\n",
       "3     John   20    270     300     True\n",
       "4     Tony   19    100     300    False"
      ]
     },
     "execution_count": 52,
     "metadata": {},
     "output_type": "execute_result"
    }
   ],
   "source": [
    "dict1 = {\n",
    "    'Students':['Jim',\"Dwight\",\"Pam\",\"John\",\"Tony\"],\n",
    "    'Age':[19,19,19,20,19],\n",
    "    'Marks':[230,235,120,270,100],\n",
    "    'Out of':[300,300,300,300,300],\n",
    "    'Qualify':['Yes','Yes','No','Yes','No']\n",
    "}\n",
    "\n",
    "ds2 = ps.DataFrame(dict1)\n",
    "\n",
    "ds2['Qualify']= ds2['Qualify'].replace({'Yes':True,'No': False})\n",
    "ds2"
   ]
  },
  {
   "cell_type": "markdown",
   "metadata": {},
   "source": [
    "#### 12. Write a Pandas program to remove infinite values from a given DataFrame."
   ]
  },
  {
   "cell_type": "code",
   "execution_count": 54,
   "metadata": {},
   "outputs": [
    {
     "data": {
      "text/html": [
       "<div>\n",
       "<style scoped>\n",
       "    .dataframe tbody tr th:only-of-type {\n",
       "        vertical-align: middle;\n",
       "    }\n",
       "\n",
       "    .dataframe tbody tr th {\n",
       "        vertical-align: top;\n",
       "    }\n",
       "\n",
       "    .dataframe thead th {\n",
       "        text-align: right;\n",
       "    }\n",
       "</style>\n",
       "<table border=\"1\" class=\"dataframe\">\n",
       "  <thead>\n",
       "    <tr style=\"text-align: right;\">\n",
       "      <th></th>\n",
       "      <th>X</th>\n",
       "      <th>Y</th>\n",
       "    </tr>\n",
       "  </thead>\n",
       "  <tbody>\n",
       "    <tr>\n",
       "      <th>0</th>\n",
       "      <td>21.0</td>\n",
       "      <td>32.0</td>\n",
       "    </tr>\n",
       "    <tr>\n",
       "      <th>1</th>\n",
       "      <td>32.0</td>\n",
       "      <td>54.0</td>\n",
       "    </tr>\n",
       "    <tr>\n",
       "      <th>3</th>\n",
       "      <td>67.0</td>\n",
       "      <td>98.0</td>\n",
       "    </tr>\n",
       "  </tbody>\n",
       "</table>\n",
       "</div>"
      ],
      "text/plain": [
       "      X     Y\n",
       "0  21.0  32.0\n",
       "1  32.0  54.0\n",
       "3  67.0  98.0"
      ]
     },
     "execution_count": 54,
     "metadata": {},
     "output_type": "execute_result"
    }
   ],
   "source": [
    "dict2 = {\n",
    "    'X':[21,32,45,67,np.inf],\n",
    "    'Y':[32,54,np.inf,98,89]\n",
    "}\n",
    "\n",
    "ds3 = ps.DataFrame(dict2)\n",
    "\n",
    "ds3 = ds3.replace({np.inf:np.NaN})\n",
    "\n",
    "ds3 = ds3.dropna()\n",
    "ds3"
   ]
  }
 ],
 "metadata": {
  "kernelspec": {
   "display_name": "Python 3",
   "language": "python",
   "name": "python3"
  },
  "language_info": {
   "codemirror_mode": {
    "name": "ipython",
    "version": 3
   },
   "file_extension": ".py",
   "mimetype": "text/x-python",
   "name": "python",
   "nbconvert_exporter": "python",
   "pygments_lexer": "ipython3",
   "version": "3.12.0"
  }
 },
 "nbformat": 4,
 "nbformat_minor": 2
}
