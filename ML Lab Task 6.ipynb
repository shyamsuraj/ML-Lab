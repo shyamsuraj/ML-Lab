{
 "cells": [
  {
   "cell_type": "code",
   "execution_count": 49,
   "id": "5e6b3c52",
   "metadata": {},
   "outputs": [],
   "source": [
    "import numpy as np\n",
    "import pandas as pd\n",
    "import matplotlib.pyplot as plt"
   ]
  },
  {
   "cell_type": "code",
   "execution_count": 66,
   "id": "0faed198",
   "metadata": {},
   "outputs": [],
   "source": [
    "df=pd.read_csv(\"knn_dataset.csv\")"
   ]
  },
  {
   "cell_type": "code",
   "execution_count": 9,
   "id": "b8505d46",
   "metadata": {},
   "outputs": [],
   "source": [
    "from sklearn.model_selection import train_test_split"
   ]
  },
  {
   "cell_type": "code",
   "execution_count": 10,
   "id": "e44e4163",
   "metadata": {},
   "outputs": [],
   "source": [
    "X= df.drop('CLASS',axis=1)\n",
    "y = df.CLASS\n",
    "X_train, X_test, y_train, y_test = train_test_split(X, y, test_size=0.05, random_state=0)"
   ]
  },
  {
   "cell_type": "code",
   "execution_count": 11,
   "id": "402a9681",
   "metadata": {},
   "outputs": [
    {
     "name": "stdout",
     "output_type": "stream",
     "text": [
      "   AGE  INCOME  NO.OF CARDS\n",
      "1   22   50000            2\n",
      "0   35   35000            3\n",
      "1    Yes\n",
      "0     No\n",
      "Name: CLASS, dtype: object\n"
     ]
    }
   ],
   "source": [
    "print(X_train)\n",
    "print(y_train)"
   ]
  },
  {
   "cell_type": "code",
   "execution_count": 12,
   "id": "135763d1",
   "metadata": {},
   "outputs": [
    {
     "name": "stdout",
     "output_type": "stream",
     "text": [
      "   AGE  INCOME  NO.OF CARDS\n",
      "2   63   40000            4\n",
      "2    Yes\n",
      "Name: CLASS, dtype: object\n"
     ]
    }
   ],
   "source": [
    "print(X_test)\n",
    "print(y_test)"
   ]
  },
  {
   "cell_type": "code",
   "execution_count": 67,
   "id": "4b5c7192",
   "metadata": {},
   "outputs": [
    {
     "name": "stdout",
     "output_type": "stream",
     "text": [
      "Predicted class: Yes\n",
      "Confusion Matrix:\n",
      "No {'No': 0, 'Yes': 1}\n",
      "Yes {'No': 0, 'Yes': 2}\n",
      "Accuracy: 0.6666666666666666\n"
     ]
    }
   ],
   "source": [
    "import math\n",
    "dataset = [\n",
    "    {'age': 35, 'income': 35000, 'cards': 3, 'class': 'No'},\n",
    "    {'age': 22, 'income': 50000, 'cards': 2, 'class': 'Yes'},\n",
    "    {'age': 63, 'income': 40000, 'cards': 4, 'class': 'Yes'}\n",
    "]\n",
    "\n",
    "def euclidean_distance(point1, point2):\n",
    "    distance = 0\n",
    "    for key in point1.keys():\n",
    "        distance += (point1[key] - point2[key]) ** 2\n",
    "    return math.sqrt(distance)\n",
    "\n",
    "# Define the KNN algorithm\n",
    "def knn(dataset, new_data, k):\n",
    "    distances = []\n",
    "    for data in dataset:\n",
    "        distance = euclidean_distance(new_data, data)\n",
    "        distances.append((data, distance))\n",
    "    sorted_distances = sorted(distances, key=lambda x: x[1])\n",
    "    neighbors = sorted_distances[:k]\n",
    "    class_votes = {'Yes': 0, 'No': 0}  # Assuming two classes: 'Yes' and 'No'\n",
    "    for neighbor in neighbors:\n",
    "        class_votes[neighbor[0]['class']] += 1\n",
    "    return max(class_votes, key=class_votes.get)\n",
    "\n",
    "\n",
    "new_data_point = {'age': 35, 'income': 35000, 'cards': 3}\n",
    "\n",
    "\n",
    "k = 3\n",
    "\n",
    "\n",
    "predicted_class = knn(dataset, new_data_point, k)\n",
    "print(\"Predicted class:\", predicted_class)\n",
    "\n",
    "\n",
    "def confusion_matrix(actual, predicted):\n",
    "    classes = set(actual)\n",
    "    matrix = {actual_class: {predicted_class: 0 for predicted_class in classes} for actual_class in classes}\n",
    "    for i in range(len(actual)):\n",
    "        matrix[actual[i]][predicted[i]] += 1\n",
    "    return matrix\n",
    "\n",
    "\n",
    "actual_classes = [data['class'] for data in dataset]\n",
    "\n",
    "\n",
    "predicted_classes = [knn(dataset, new_data_point, k) for _ in range(len(dataset))]\n",
    "\n",
    "\n",
    "matrix = confusion_matrix(actual_classes, predicted_classes)\n",
    "\n",
    "\n",
    "print(\"Confusion Matrix:\")\n",
    "for actual_class, row in matrix.items():\n",
    "    print(actual_class, row)\n",
    "    \n",
    "\n",
    "def accuracy(matrix):\n",
    "    total_instances = sum(sum(row.values()) for row in matrix.values())\n",
    "    correct_predictions = sum(matrix[class_label][class_label] for class_label in matrix.keys())\n",
    "    return correct_predictions / total_instances\n",
    "\n",
    "\n",
    "accuracy_value = accuracy(matrix)\n",
    "\n",
    "\n",
    "print(\"Accuracy:\", accuracy_value)\n"
   ]
  },
  {
   "cell_type": "code",
   "execution_count": 62,
   "id": "90bce7b9",
   "metadata": {},
   "outputs": [
    {
     "data": {
      "image/png": "[encoded data removed]",
      "text/plain": [
       "<Figure size 640x480 with 1 Axes>"
      ]
     },
     "metadata": {},
     "output_type": "display_data"
    }
   ],
   "source": [
    "import matplotlib.pyplot as plt\n",
    "\n",
    "# Define a function to calculate accuracy for a given value of k\n",
    "def cal_accuracy_k(dataset, new_data_point, k):\n",
    "    actual_classes = [data['class'] for data in dataset]\n",
    "    predicted_classes = [knn(dataset, new_data_point, k) for _ in range(len(dataset))]\n",
    "    matrix = confusion_matrix(actual_classes, predicted_classes)\n",
    "    return accuracy(matrix)\n",
    "\n",
    "# Define a range of K values to test\n",
    "k_values = list(range(1, 10))  # Testing K values from 1 to 20\n",
    "\n",
    "# Calculate accuracy for each value of K\n",
    "accuracies = [cal_accuracy_k(dataset, new_data_point, k) for k in k_values]\n",
    "\n",
    "# Plot the curve \"k vs accuracy\"\n",
    "plt.plot(k_values, accuracies, marker='o', linestyle='-')\n",
    "plt.title(\"K vs Accuracy\")\n",
    "plt.xlabel(\"Value of K\")\n",
    "plt.ylabel(\"Accuracy\")\n",
    "plt.grid(True)\n",
    "plt.show()\n"
   ]
  },
  {
   "cell_type": "code",
   "execution_count": 57,
   "id": "660a39e3",
   "metadata": {},
   "outputs": [
    {
     "name": "stdout",
     "output_type": "stream",
     "text": [
      "Optimal value of K for maximum accuracy: 2\n",
      "Maximum accuracy achieved: 0.6666666666666666\n"
     ]
    }
   ],
   "source": [
    "# Define a function to calculate accuracy for a given value of k\n",
    "def cal_accuracy_k(dataset, new_data_point, k):\n",
    "    actual_classes = [data['class'] for data in dataset]\n",
    "    predicted_classes = [knn(dataset, new_data_point, k) for _ in range(len(dataset))]\n",
    "    matrix = confusion_matrix(actual_classes, predicted_classes)\n",
    "    return accuracy(matrix)\n",
    "\n",
    "# Define a range of K values to test\n",
    "k_values = list(range(1, 21))  # Testing K values from 1 to 20\n",
    "\n",
    "# Calculate accuracy for each value of K\n",
    "accuracies = [cal_accuracy_k(dataset, new_data_point, k) for k in k_values]\n",
    "\n",
    "# Find the optimal value of K with maximum accuracy\n",
    "optimal_k = k_values[accuracies.index(max(accuracies))]\n",
    "\n",
    "print(\"Optimal value of K for maximum accuracy:\", optimal_k)\n",
    "print(\"Maximum accuracy achieved:\", max(accuracies))\n"
   ]
  }
 ],
 "metadata": {
  "kernelspec": {
   "display_name": "Python 3 (ipykernel)",
   "language": "python",
   "name": "python3"
  },
  "language_info": {
   "codemirror_mode": {
    "name": "ipython",
    "version": 3
   },
   "file_extension": ".py",
   "mimetype": "text/x-python",
   "name": "python",
   "nbconvert_exporter": "python",
   "pygments_lexer": "ipython3",
   "version": "3.9.13"
  }
 },
 "nbformat": 4,
 "nbformat_minor": 5
}
