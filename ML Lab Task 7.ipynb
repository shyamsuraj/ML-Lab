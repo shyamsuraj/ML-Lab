{
 "cells": [
  {
   "cell_type": "markdown",
   "id": "fb739a10",
   "metadata": {},
   "source": [
    "### Feature Engineering/Preprocessing [ LAB-7]"
   ]
  },
  {
   "cell_type": "markdown",
   "id": "ab16425c",
   "metadata": {},
   "source": [
    "### 1.Create a vector (array) of 1XN dimension representing N- dimensional feature vector of a sample. Write a program to compute the mean and variance of the elements present in the array."
   ]
  },
  {
   "cell_type": "code",
   "execution_count": 9,
   "id": "9cf808f2",
   "metadata": {},
   "outputs": [
    {
     "name": "stdout",
     "output_type": "stream",
     "text": [
      "Feature Vector: [ 1  2  3  4  5  6  7  8  9 10]\n",
      "Mean: 5.5\n",
      "Sample Variance: 9.166666666666666\n",
      "Population Variance: 8.25\n"
     ]
    }
   ],
   "source": [
    "import numpy as np\n",
    "\n",
    "def compute_mean_and_variance(arr):\n",
    "    mean = np.sum(arr) / len(arr)\n",
    "    # Sample variance\n",
    "    sample_variance = np.sum((arr - mean)**2) / (len(arr) - 1)\n",
    "    # Population variance\n",
    "    population_variance = np.sum((arr - mean)**2) / len(arr)\n",
    "    return mean, sample_variance, population_variance\n",
    "\n",
    "feature_vector = np.array([1, 2, 3, 4, 5, 6, 7, 8, 9, 10])\n",
    "\n",
    "mean, sample_variance, population_variance = compute_mean_and_variance(feature_vector)\n",
    "\n",
    "print(\"Feature Vector:\", feature_vector)\n",
    "print(\"Mean:\", mean)\n",
    "print(\"Sample Variance:\", sample_variance)\n",
    "print(\"Population Variance:\", population_variance)"
   ]
  },
  {
   "cell_type": "markdown",
   "id": "7ced935c",
   "metadata": {},
   "source": [
    "### 2.Create two vectors each of dimension 1XM each representing N- dimensional feature vector of a sample. Write a program to compute the Covariance between them."
   ]
  },
  {
   "cell_type": "code",
   "execution_count": 11,
   "id": "34f7e2ef",
   "metadata": {},
   "outputs": [
    {
     "name": "stdout",
     "output_type": "stream",
     "text": [
      "Feature Vector X: [[ 1  2  3  4  5  6  7  8  9 10]]\n",
      "Feature Vector Y: [[11 12 13 14 15 16 17 18 19 20]]\n",
      "Covariance between X and Y: 8.25\n"
     ]
    }
   ],
   "source": [
    "import numpy as np\n",
    "\n",
    "# Function to compute the covariance between two 1xM dimensional feature vectors\n",
    "def compute_covariance(X, Y):\n",
    "    M = X.shape[1]\n",
    "    mean_X = np.sum(X) / M\n",
    "    mean_Y = np.sum(Y) / M\n",
    "    covariance = np.sum((X - mean_X) * (Y - mean_Y)) / M\n",
    "    return covariance\n",
    "\n",
    "# Create two 1x10 dimensional feature vectors\n",
    "X = np.array([[1, 2, 3, 4, 5, 6, 7, 8, 9, 10]])\n",
    "Y = np.array([[11,12,13,14,15,16,17,18,19,20]])\n",
    "\n",
    "# Compute the covariance between the two vectors\n",
    "covariance = compute_covariance(X, Y)\n",
    "\n",
    "print(\"Feature Vector X:\", X)\n",
    "print(\"Feature Vector Y:\", Y)\n",
    "print(\"Covariance between X and Y:\", covariance)\n"
   ]
  },
  {
   "cell_type": "markdown",
   "id": "35f9bb39",
   "metadata": {},
   "source": [
    "### 3.Create two vectors each of dimension 1XN. Write a program to compute the Correlation between them."
   ]
  },
  {
   "cell_type": "code",
   "execution_count": 13,
   "id": "3657632d",
   "metadata": {},
   "outputs": [
    {
     "name": "stdout",
     "output_type": "stream",
     "text": [
      "Feature Vector X: [ 1  2  3  4  5  6  7  8  9 10]\n",
      "Feature Vector Y: [11 12 13 14 15 16 17 18 19 20]\n",
      "Correlation between X and Y: 1.0\n"
     ]
    }
   ],
   "source": [
    "import numpy as np\n",
    "\n",
    "# Function to compute the correlation between two 1xN dimensional vectors\n",
    "def compute_correlation(X, Y):\n",
    "    mean_X = np.mean(X)\n",
    "    mean_Y = np.mean(Y)\n",
    "    covariance = np.sum((X - mean_X) * (Y - mean_Y))\n",
    "    std_dev_X = np.sqrt(np.sum((X - mean_X)**2))\n",
    "    std_dev_Y = np.sqrt(np.sum((Y - mean_Y)**2))\n",
    "    correlation = covariance / (std_dev_X * std_dev_Y)\n",
    "    return correlation\n",
    "\n",
    "# Create two 1xN dimensional vectors\n",
    "N = 10\n",
    "X = np.array([1, 2, 3, 4, 5, 6, 7, 8, 9, 10])\n",
    "Y = np.array([11,12,13,14,15,16,17,18,19,20])\n",
    "\n",
    "# Compute the correlation between the two vectors\n",
    "correlation = compute_correlation(X, Y)\n",
    "\n",
    "print(\"Feature Vector X:\", X)\n",
    "print(\"Feature Vector Y:\", Y)\n",
    "print(\"Correlation between X and Y:\", correlation)\n"
   ]
  },
  {
   "cell_type": "markdown",
   "id": "4b1ad626",
   "metadata": {},
   "source": [
    "### 4. Create a Matrix of MXN dimension representing the M-dimensional feature vector for N number of samples i. e (i,j)th entry of the matrix represents the ith feature of jth sample. Write a program to computethe covariance matrix and correlation matrix. Comment on takeaways from these matrixes."
   ]
  },
  {
   "cell_type": "code",
   "execution_count": 15,
   "id": "c611429f",
   "metadata": {},
   "outputs": [
    {
     "name": "stdout",
     "output_type": "stream",
     "text": [
      "Feature Matrix:\n",
      "[[ 1  2  3  4  5  6  7  8  9 10]\n",
      " [11 12 13 14 15 16 17 18 19 20]]\n",
      "\n",
      "Covariance Matrix:\n",
      "[[9.16666667 9.16666667]\n",
      " [9.16666667 9.16666667]]\n",
      "\n",
      "Correlation Matrix:\n",
      "[[1. 1.]\n",
      " [1. 1.]]\n"
     ]
    }
   ],
   "source": [
    "import numpy as np\n",
    "\n",
    "# Function to compute the covariance matrix and correlation matrix\n",
    "def compute_covariance_and_correlation(matrix):\n",
    "    # Compute the covariance matrix\n",
    "    covariance_matrix = np.cov(matrix)\n",
    "\n",
    "    # Compute the correlation matrix\n",
    "    correlation_matrix = np.corrcoef(matrix)\n",
    "\n",
    "    return covariance_matrix, correlation_matrix\n",
    "\n",
    "# Create a matrix of MxN dimensions with the given feature vectors\n",
    "matrix = np.array([[1, 2, 3, 4, 5, 6, 7, 8, 9, 10],\n",
    "                   [11,12,13,14,15,16,17,18,19,20]])\n",
    "\n",
    "# Compute the covariance matrix and correlation matrix\n",
    "covariance_matrix, correlation_matrix = compute_covariance_and_correlation(matrix)\n",
    "\n",
    "print(\"Feature Matrix:\")\n",
    "print(matrix)\n",
    "print(\"\\nCovariance Matrix:\")\n",
    "print(covariance_matrix)\n",
    "print(\"\\nCorrelation Matrix:\")\n",
    "print(correlation_matrix)\n"
   ]
  },
  {
   "cell_type": "code",
   "execution_count": null,
   "id": "0afe861c",
   "metadata": {},
   "outputs": [],
   "source": []
  }
 ],
 "metadata": {
  "kernelspec": {
   "display_name": "Python 3 (ipykernel)",
   "language": "python",
   "name": "python3"
  },
  "language_info": {
   "codemirror_mode": {
    "name": "ipython",
    "version": 3
   },
   "file_extension": ".py",
   "mimetype": "text/x-python",
   "name": "python",
   "nbconvert_exporter": "python",
   "pygments_lexer": "ipython3",
   "version": "3.10.9"
  }
 },
 "nbformat": 4,
 "nbformat_minor": 5
}
